{
 "cells": [
  {
   "cell_type": "code",
   "execution_count": 27,
   "metadata": {},
   "outputs": [],
   "source": [
    "from preprocessing import extract_events, create_raw\n",
    "from matplotlib import pyplot as plt\n",
    "import pandas as pd\n",
    "import numpy as np\n",
    "import os\n",
    "import mne\n",
    "from scipy.stats import ttest_ind, ttest_ind_from_stats\n",
    "import matplotlib.gridspec as gridspec\n",
    "from string import ascii_letters\n",
    "import seaborn as sns\n",
    "import copy"
   ]
  },
  {
   "cell_type": "code",
   "execution_count": 70,
   "metadata": {},
   "outputs": [],
   "source": [
    "# List of dataframes\n",
    "recordings = [pd.read_pickle(f) for f in os.listdir('.') if f.endswith('.pkl')]\n",
    "\n",
    "# settings\n",
    "event_id = dict(call=1, no_call=2, not_bluffing=3, bluffing=4)\n",
    "tmin, tmax = -4, 4\n",
    "\n",
    "epochs = mne.Epochs(create_raw(recordings[5]),\n",
    "                    events=extract_events(np.array(recordings[5]['event_stream'])),\n",
    "                    event_id=event_id, tmin=tmin, tmax=tmax, preload=True)"
   ]
  },
  {
   "cell_type": "code",
   "execution_count": 72,
   "metadata": {},
   "outputs": [],
   "source": [
    "def reshapeEpochs(epochs, tmax, tmin):\n",
    "    #Remove empty dimension and average across trials. Returns dictionary\n",
    "    data={}\n",
    "    for i, ch_name in enumerate(epochs.ch_names):\n",
    "        r=epochs['bluffing'].copy().pick_channels(ch_names=[ch_name])._data\n",
    "        bluff_copy=copy.deepcopy(r).T\n",
    "        bluff=[]\n",
    "        r=epochs['not_bluffing'].copy().pick_channels(ch_names=[ch_name])._data\n",
    "        nbluff_copy=copy.deepcopy(r).T\n",
    "        nbluff=[]\n",
    "        for trial in bluff_copy:\n",
    "            bluff.append(np.mean(trial[0]))\n",
    "        for trial in nbluff_copy:\n",
    "            nbluff.append(np.mean(trial[0]))\n",
    "        data[ch_name]={'bluffing':((np.arange(len(bluff))/10)-tmax, np.array(bluff)), \n",
    "                       'not_bluffing':((np.arange(len(nbluff))*10)-tmax, np.array(nbluff))}\n",
    "    return data"
   ]
  },
  {
   "cell_type": "code",
   "execution_count": 81,
   "metadata": {},
   "outputs": [],
   "source": [
    " def getDifferences(epochs):\n",
    "    #Take send dictionary formatted - data[ch_name][bluffing/not_bluffing][0/1(x/y)]\n",
    "    differences={}\n",
    "    time=epochs['attention']['bluffing'][0]\n",
    "    #step through the key names, eg attention, delta, highAlpha...\n",
    "    for key, value in epochs.items():\n",
    "        #Get an array of differences between bluffing and not bluffing\n",
    "        difference=value['bluffing'][1]-value['not_bluffing'][1]\n",
    "        #The data is saved in this dictionary for future use eg data['attention']\n",
    "        differences[key]=difference\n",
    "    return differences, time  "
   ]
  },
  {
   "cell_type": "code",
   "execution_count": 100,
   "metadata": {},
   "outputs": [],
   "source": [
    "def plotDifferences(epochs):\n",
    "    differences, time=getDifferences(epochs)\n",
    "    #step through the channel names, eg attention, delta, highAlpha...\n",
    "    sns.set(style=\"white\")\n",
    "    keys=list(differences.keys())\n",
    "    values=list(differences.values())\n",
    "    print(np.array(values).shape)\n",
    "    df=pd.DataFrame({'features':keys, 'values':values})#, 'time(s)':time, 'values':values})\n",
    "    # Draw the heatmap\n",
    "    sns.heatmap(values, cmap='seismic')#, fmt=\"g\", cmap='viridis')\n"
   ]
  },
  {
   "cell_type": "code",
   "execution_count": 101,
   "metadata": {},
   "outputs": [
    {
     "name": "stdout",
     "output_type": "stream",
     "text": [
      "(10, 81)\n"
     ]
    },
    {
     "data": {
      "image/png": "[encoded data removed]",
      "text/plain": [
       "<Figure size 432x288 with 2 Axes>"
      ]
     },
     "metadata": {},
     "output_type": "display_data"
    }
   ],
   "source": [
    "plotDifferences(reshapeEpochs(epochs, tmax, tmin))"
   ]
  },
  {
   "cell_type": "code",
   "execution_count": null,
   "metadata": {},
   "outputs": [],
   "source": []
  }
 ],
 "metadata": {
  "kernelspec": {
   "display_name": "Python 3",
   "language": "python",
   "name": "python3"
  },
  "language_info": {
   "codemirror_mode": {
    "name": "ipython",
    "version": 3
   },
   "file_extension": ".py",
   "mimetype": "text/x-python",
   "name": "python",
   "nbconvert_exporter": "python",
   "pygments_lexer": "ipython3",
   "version": "3.7.3"
  }
 },
 "nbformat": 4,
 "nbformat_minor": 2
}
