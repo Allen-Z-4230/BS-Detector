{
 "cells": [
  {
   "cell_type": "code",
   "execution_count": 218,
   "metadata": {},
   "outputs": [],
   "source": [
    "from preprocessing import extract_events, create_raw\n",
    "from matplotlib import pyplot as plt\n",
    "import pandas as pd\n",
    "import numpy as np\n",
    "import os\n",
    "import mne\n",
    "from scipy.stats import ttest_ind, ttest_ind_from_stats\n",
    "import matplotlib.gridspec as gridspec\n",
    "from string import ascii_letters\n",
    "import seaborn as sns\n",
    "import copy"
   ]
  },
  {
   "cell_type": "code",
   "execution_count": 219,
   "metadata": {},
   "outputs": [],
   "source": [
    "# List of dataframes\n",
    "recordings = [pd.read_pickle(f) for f in os.listdir('.') if f.endswith('.pkl')]\n",
    "\n",
    "# settings\n",
    "event_id = dict(call=1, no_call=2, not_bluffing=3, bluffing=4)\n",
    "tmin, tmax = -4, 4\n",
    "\n",
    "epochs = mne.Epochs(create_raw(recordings[5]),\n",
    "                    events=extract_events(np.array(recordings[5]['event_stream'])),\n",
    "                    event_id=event_id, tmin=tmin, tmax=tmax, preload=True)"
   ]
  },
  {
   "cell_type": "code",
   "execution_count": 220,
   "metadata": {},
   "outputs": [],
   "source": [
    "def reshapeEpochs(epochs, tmax, tmin):\n",
    "    #Remove empty dimension and average across trials. Returns dictionary\n",
    "    data={}\n",
    "    epochs.drop_channels(ch_names = ['theta', 'delta', 'attention', 'meditation'])\n",
    "    epochs.reorder_channels(ch_names=['lowAlpha', 'highAlpha', 'lowBeta', 'highBeta', 'lowGamma', 'midGamma'])\n",
    "    for i, ch_name in enumerate(epochs.ch_names):\n",
    "        r=epochs['bluffing'].copy().pick_channels(ch_names=[ch_name])._data\n",
    "        bluff_copy=copy.deepcopy(r).T\n",
    "        bluff=[]\n",
    "        r=epochs['not_bluffing'].copy().pick_channels(ch_names=[ch_name])._data\n",
    "        nbluff_copy=copy.deepcopy(r).T\n",
    "        nbluff=[]\n",
    "        for trial in bluff_copy:\n",
    "            bluff.append(np.mean(trial[0]))\n",
    "        for trial in nbluff_copy:\n",
    "            nbluff.append(np.mean(trial[0]))\n",
    "        data[ch_name]={'bluffing':((np.arange(len(bluff))/10)-tmax, np.array(bluff)), \n",
    "                       'not_bluffing':((np.arange(len(nbluff))*10)-tmax, np.array(nbluff))}\n",
    "    return data"
   ]
  },
  {
   "cell_type": "code",
   "execution_count": 221,
   "metadata": {},
   "outputs": [],
   "source": [
    " def getDifferences(epochs):\n",
    "    #Take send dictionary formatted - data[ch_name][bluffing/not_bluffing][0/1(x/y)]\n",
    "    differences={}\n",
    "    time=epochs['highAlpha']['bluffing'][0]\n",
    "    #step through the key names, eg attention, delta, highAlpha...\n",
    "    for key, value in epochs.items():\n",
    "        #Get an array of differences between bluffing and not bluffing\n",
    "        difference=value['bluffing'][1]-value['not_bluffing'][1]\n",
    "        #The data is saved in this dictionary for future use eg data['attention']\n",
    "        differences[key]=difference\n",
    "    return differences, time  "
   ]
  },
  {
   "cell_type": "code",
   "execution_count": 222,
   "metadata": {},
   "outputs": [],
   "source": [
    "def plotDifferences(epochs):\n",
    "    differences, time=getDifferences(epochs)\n",
    "    time = np.linspace(-4,4,num=10)\n",
    "    #step through the channel names, eg attention, delta, highAlpha...\n",
    "    sns.set(style=\"white\")\n",
    "    keys=list(differences.keys())\n",
    "    values=list(differences.values())\n",
    "    df=pd.DataFrame({'features':keys, 'values':values})#, 'time(s)':time, 'values':values})\n",
    "    # Draw the heatmap\n",
    "    ax1 = sns.heatmap(values, cmap='seismic', xticklabels=5,yticklabels=epochs.keys())#, fmt=\"g\", cmap='viridis')"
   ]
  },
  {
   "cell_type": "code",
   "execution_count": 223,
   "metadata": {},
   "outputs": [
    {
     "data": {
      "image/png": "[encoded data removed]",
      "text/plain": [
       "<Figure size 432x288 with 2 Axes>"
      ]
     },
     "metadata": {},
     "output_type": "display_data"
    }
   ],
   "source": [
    "plotDifferences(reshapeEpochs(epochs, tmax, tmin))"
   ]
  }
 ],
 "metadata": {
  "kernelspec": {
   "display_name": "Python 3",
   "language": "python",
   "name": "python3"
  },
  "language_info": {
   "codemirror_mode": {
    "name": "ipython",
    "version": 3
   },
   "file_extension": ".py",
   "mimetype": "text/x-python",
   "name": "python",
   "nbconvert_exporter": "python",
   "pygments_lexer": "ipython3",
   "version": "3.7.4"
  }
 },
 "nbformat": 4,
 "nbformat_minor": 2
}
