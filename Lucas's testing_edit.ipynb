{
 "cells": [
  {
   "cell_type": "code",
   "execution_count": 1,
   "metadata": {},
   "outputs": [],
   "source": [
    "from preprocessing import extract_events, create_raw\n",
    "from matplotlib import pyplot as plt\n",
    "import pandas as pd\n",
    "import numpy as np\n",
    "import os\n",
    "import mne\n",
    "from scipy.stats import ttest_ind, ttest_ind_from_stats\n",
    "import matplotlib.gridspec as gridspec"
   ]
  },
  {
   "cell_type": "code",
   "execution_count": 2,
   "metadata": {},
   "outputs": [
    {
     "ename": "TypeError",
     "evalue": "'list' object cannot be interpreted as an integer",
     "output_type": "error",
     "traceback": [
      "\u001b[0;31m---------------------------------------------------------------------------\u001b[0m",
      "\u001b[0;31mTypeError\u001b[0m                                 Traceback (most recent call last)",
      "\u001b[0;32m<ipython-input-2-c2e2383fba73>\u001b[0m in \u001b[0;36m<module>\u001b[0;34m\u001b[0m\n\u001b[1;32m     13\u001b[0m \u001b[0msession_lst\u001b[0m \u001b[0;34m=\u001b[0m \u001b[0;34m[\u001b[0m\u001b[0;34m]\u001b[0m\u001b[0;34m\u001b[0m\u001b[0;34m\u001b[0m\u001b[0m\n\u001b[1;32m     14\u001b[0m \u001b[0;34m\u001b[0m\u001b[0m\n\u001b[0;32m---> 15\u001b[0;31m \u001b[0;32mfor\u001b[0m \u001b[0mi\u001b[0m \u001b[0;32min\u001b[0m \u001b[0mrange\u001b[0m\u001b[0;34m(\u001b[0m\u001b[0mnum\u001b[0m\u001b[0;34m)\u001b[0m\u001b[0;34m:\u001b[0m\u001b[0;34m\u001b[0m\u001b[0;34m\u001b[0m\u001b[0m\n\u001b[0m\u001b[1;32m     16\u001b[0m     epochs = mne.Epochs(create_raw(recordings[num]),\n\u001b[1;32m     17\u001b[0m                     \u001b[0mevents\u001b[0m\u001b[0;34m=\u001b[0m\u001b[0mextract_events\u001b[0m\u001b[0;34m(\u001b[0m\u001b[0mnp\u001b[0m\u001b[0;34m.\u001b[0m\u001b[0marray\u001b[0m\u001b[0;34m(\u001b[0m\u001b[0mrecordings\u001b[0m\u001b[0;34m[\u001b[0m\u001b[0mnum\u001b[0m\u001b[0;34m]\u001b[0m\u001b[0;34m[\u001b[0m\u001b[0;34m'event_stream'\u001b[0m\u001b[0;34m]\u001b[0m\u001b[0;34m)\u001b[0m\u001b[0;34m)\u001b[0m\u001b[0;34m,\u001b[0m\u001b[0;34m\u001b[0m\u001b[0;34m\u001b[0m\u001b[0m\n",
      "\u001b[0;31mTypeError\u001b[0m: 'list' object cannot be interpreted as an integer"
     ]
    }
   ],
   "source": [
    "# List of dataframes\n",
    "recordings = [pd.read_pickle(f) for f in os.listdir('.') if f.endswith('.pkl')]\n",
    "\n",
    "# settings\n",
    "event_id = dict(call=1, no_call=2, not_bluffing=3, bluffing=4)\n",
    "tmin, tmax = -4, 4\n",
    "\n",
    "#Trying to create loop that goes through all 5 subjects. For subjects 1 to 3, concatenates the\n",
    "#corresponding epochs and stores them in one new value, and appends that to a list that will\n",
    "#then store sessions 1, 2, 3 as 1 session, and 4 and 5 as separate sessions.\n",
    "\n",
    "num = [1, 2, 3, 4, 5]\n",
    "session_lst = []\n",
    "\n",
    "for i in range(num):\n",
    "    epochs = mne.Epochs(create_raw(recordings[num]),\n",
    "                    events=extract_events(np.array(recordings[num]['event_stream'])),\n",
    "                    event_id=event_id, tmin=tmin, tmax=tmax, preload=True)\n",
    "    if num <= 3:\n",
    "        put_them_together = concatenate_epochs(num)\n",
    "        np.append(session_lst(put_them_together))\n",
    "    else:\n",
    "        np.append(session_lst)\n",
    "return epochs"
   ]
  },
  {
   "cell_type": "code",
   "execution_count": 2,
   "metadata": {},
   "outputs": [
    {
     "ename": "NameError",
     "evalue": "name 'epochs' is not defined",
     "output_type": "error",
     "traceback": [
      "\u001b[0;31m---------------------------------------------------------------------------\u001b[0m",
      "\u001b[0;31mNameError\u001b[0m                                 Traceback (most recent call last)",
      "\u001b[0;32m<ipython-input-2-2ff8829f41cb>\u001b[0m in \u001b[0;36m<module>\u001b[0;34m\u001b[0m\n\u001b[1;32m      1\u001b[0m \u001b[0mfig\u001b[0m \u001b[0;34m=\u001b[0m \u001b[0mplt\u001b[0m\u001b[0;34m.\u001b[0m\u001b[0mfigure\u001b[0m\u001b[0;34m(\u001b[0m\u001b[0mfigsize\u001b[0m\u001b[0;34m=\u001b[0m\u001b[0;34m[\u001b[0m\u001b[0;36m12\u001b[0m\u001b[0;34m,\u001b[0m \u001b[0;36m20\u001b[0m\u001b[0;34m]\u001b[0m\u001b[0;34m)\u001b[0m\u001b[0;34m\u001b[0m\u001b[0;34m\u001b[0m\u001b[0m\n\u001b[1;32m      2\u001b[0m \u001b[0mfig\u001b[0m\u001b[0;34m.\u001b[0m\u001b[0msubplots_adjust\u001b[0m\u001b[0;34m(\u001b[0m\u001b[0mhspace\u001b[0m\u001b[0;34m=\u001b[0m\u001b[0;36m.7\u001b[0m\u001b[0;34m)\u001b[0m\u001b[0;34m\u001b[0m\u001b[0;34m\u001b[0m\u001b[0m\n\u001b[0;32m----> 3\u001b[0;31m \u001b[0mgs\u001b[0m \u001b[0;34m=\u001b[0m \u001b[0mgridspec\u001b[0m\u001b[0;34m.\u001b[0m\u001b[0mGridSpec\u001b[0m\u001b[0;34m(\u001b[0m\u001b[0mlen\u001b[0m\u001b[0;34m(\u001b[0m\u001b[0mepochs\u001b[0m\u001b[0;34m.\u001b[0m\u001b[0mch_names\u001b[0m\u001b[0;34m)\u001b[0m\u001b[0;34m,\u001b[0m \u001b[0;36m2\u001b[0m\u001b[0;34m,\u001b[0m \u001b[0mfigure\u001b[0m\u001b[0;34m=\u001b[0m\u001b[0mfig\u001b[0m\u001b[0;34m)\u001b[0m\u001b[0;34m\u001b[0m\u001b[0;34m\u001b[0m\u001b[0m\n\u001b[0m\u001b[1;32m      4\u001b[0m \u001b[0mdata\u001b[0m\u001b[0;34m=\u001b[0m\u001b[0;34m{\u001b[0m\u001b[0;34m}\u001b[0m\u001b[0;34m\u001b[0m\u001b[0;34m\u001b[0m\u001b[0m\n\u001b[1;32m      5\u001b[0m \u001b[0;34m\u001b[0m\u001b[0m\n",
      "\u001b[0;31mNameError\u001b[0m: name 'epochs' is not defined"
     ]
    },
    {
     "data": {
      "text/plain": [
       "<Figure size 864x1440 with 0 Axes>"
      ]
     },
     "metadata": {},
     "output_type": "display_data"
    }
   ],
   "source": [
    "fig = plt.figure(figsize=[12, 20])\n",
    "fig.subplots_adjust(hspace=.7)\n",
    "gs = gridspec.GridSpec(len(epochs.ch_names), 2, figure=fig)\n",
    "data={}\n",
    "\n",
    "#step through the channel names, eg attention, delta, highAlpha...\n",
    "for i, ch_name in enumerate(epochs.ch_names):\n",
    "    #a is bluffing at the specific channel name. \n",
    "    #.T is used to rotate the array for the time series to be up front\n",
    "    a=epochs['bluffing'].copy().pick_channels(ch_names=[ch_name])._data.T\n",
    "    #b is not bluffing at the specific channel name. \n",
    "    b=epochs['not_bluffing'].copy().pick_channels(ch_names=[ch_name])._data.T\n",
    "    l=len(a)#number of time values we have basically its (tmax-tmin)*10\n",
    "    \n",
    "    t_values=[]\n",
    "    p_values=[]\n",
    "    #loop through all time values \n",
    "    for t in range(l):\n",
    "        #preform tests\n",
    "        t, p = ttest_ind(a[t][0], b[t][0])\n",
    "\n",
    "        t_values.append(t)\n",
    "        p_values.append(p)\n",
    "        \n",
    "    #The data is saved in this dictionary for future use eg data['attention']['t_values']\n",
    "    data[ch_name]={'t_values':t_values, 'p_values':p_values}\n",
    "    \n",
    "    #plot t values\n",
    "    ax1=fig.add_subplot(gs[i, 0], label=ch_name)\n",
    "    ax1.set_ylabel('t value')\n",
    "    ax1.set_title('t values for %s' % ch_name)\n",
    "    ax1.plot(np.arange(len(t_values))-(tmax*10), t_values)\n",
    "    \n",
    "    #plot p values\n",
    "    ax2=fig.add_subplot(gs[i, 1], label=ch_name)\n",
    "    ax2.set_ylabel('p value')\n",
    "    ax2.set_title('p values for %s' % ch_name)\n",
    "#line added below to highlight p values\n",
    "    ax2.axvline(x=1, linewidth=4, color='r')\n",
    "    ax2.plot(np.arange(len(p_values))-(tmax*10), p_values)\n"
   ]
  },
  {
   "cell_type": "code",
   "execution_count": null,
   "metadata": {},
   "outputs": [],
   "source": [
    "subjects = []\n",
    "\n",
    "for i in range(subjects):\n",
    "    concat epochs of subjects 1 to 3\n",
    "    rename as something\n",
    "    append to list as new something\n",
    "    print epochs of subjects new something, 4, 5"
   ]
  },
  {
   "cell_type": "code",
   "execution_count": null,
   "metadata": {},
   "outputs": [],
   "source": []
  },
  {
   "cell_type": "code",
   "execution_count": null,
   "metadata": {},
   "outputs": [],
   "source": []
  },
  {
   "cell_type": "code",
   "execution_count": null,
   "metadata": {},
   "outputs": [],
   "source": []
  }
 ],
 "metadata": {
  "kernelspec": {
   "display_name": "Python 3",
   "language": "python",
   "name": "python3"
  },
  "language_info": {
   "codemirror_mode": {
    "name": "ipython",
    "version": 3
   },
   "file_extension": ".py",
   "mimetype": "text/x-python",
   "name": "python",
   "nbconvert_exporter": "python",
   "pygments_lexer": "ipython3",
   "version": "3.7.3"
  }
 },
 "nbformat": 4,
 "nbformat_minor": 2
}
